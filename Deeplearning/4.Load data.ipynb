{
 "metadata": {
  "language_info": {
   "codemirror_mode": {
    "name": "ipython",
    "version": 3
   },
   "file_extension": ".py",
   "mimetype": "text/x-python",
   "name": "python",
   "nbconvert_exporter": "python",
   "pygments_lexer": "ipython3",
   "version": "3.6.7-final"
  },
  "orig_nbformat": 2,
  "kernelspec": {
   "name": "python3",
   "display_name": "Python 3",
   "language": "python"
  }
 },
 "nbformat": 4,
 "nbformat_minor": 2,
 "cells": [
  {
   "source": [
    "import numpy as np"
   ],
   "cell_type": "code",
   "metadata": {},
   "execution_count": 65,
   "outputs": []
  },
  {
   "cell_type": "code",
   "execution_count": 66,
   "metadata": {},
   "outputs": [],
   "source": [
    "b = np.array([[1,2,3,4], [5,6,7,8], [9,10,11,12]])"
   ]
  },
  {
   "cell_type": "code",
   "execution_count": 67,
   "metadata": {},
   "outputs": [
    {
     "output_type": "stream",
     "name": "stdout",
     "text": [
      "[[ 1  2  3  4]\n [ 5  6  7  8]\n [ 9 10 11 12]]\n"
     ]
    }
   ],
   "source": [
    "print(b)"
   ]
  },
  {
   "cell_type": "code",
   "execution_count": 68,
   "metadata": {},
   "outputs": [
    {
     "output_type": "execute_result",
     "data": {
      "text/plain": [
       "array([ 2,  6, 10])"
      ]
     },
     "metadata": {},
     "execution_count": 68
    }
   ],
   "source": [
    "b[:,1]"
   ]
  },
  {
   "cell_type": "code",
   "execution_count": 69,
   "metadata": {},
   "outputs": [
    {
     "output_type": "execute_result",
     "data": {
      "text/plain": [
       "array([ 9, 10, 11, 12])"
      ]
     },
     "metadata": {},
     "execution_count": 69
    }
   ],
   "source": [
    "b[-1]"
   ]
  },
  {
   "cell_type": "code",
   "execution_count": 70,
   "metadata": {},
   "outputs": [
    {
     "output_type": "execute_result",
     "data": {
      "text/plain": [
       "array([ 9, 10, 11, 12])"
      ]
     },
     "metadata": {},
     "execution_count": 70
    }
   ],
   "source": [
    "b[-1,:]"
   ]
  },
  {
   "cell_type": "code",
   "execution_count": 71,
   "metadata": {},
   "outputs": [
    {
     "output_type": "execute_result",
     "data": {
      "text/plain": [
       "array([ 9, 10, 11, 12])"
      ]
     },
     "metadata": {},
     "execution_count": 71
    }
   ],
   "source": [
    "b[-1,...]"
   ]
  },
  {
   "cell_type": "code",
   "execution_count": 72,
   "metadata": {},
   "outputs": [
    {
     "output_type": "execute_result",
     "data": {
      "text/plain": [
       "array([[1, 2, 3, 4],\n",
       "       [5, 6, 7, 8]])"
      ]
     },
     "metadata": {},
     "execution_count": 72
    }
   ],
   "source": [
    "b[0:2,:]"
   ]
  },
  {
   "cell_type": "code",
   "execution_count": 73,
   "metadata": {},
   "outputs": [],
   "source": [
    "xy = np.loadtxt('../data-01-test-score.csv', delimiter=',',dtype=np.float32)"
   ]
  },
  {
   "cell_type": "code",
   "execution_count": 74,
   "metadata": {},
   "outputs": [],
   "source": [
    "x_data = xy[:,0:-1]\n",
    "y_data = xy[:, [-1]]"
   ]
  },
  {
   "cell_type": "code",
   "execution_count": 75,
   "metadata": {},
   "outputs": [
    {
     "output_type": "stream",
     "name": "stdout",
     "text": [
      "(25, 3)\n25\n[[ 73.  80.  75.]\n [ 93.  88.  93.]\n [ 89.  91.  90.]\n [ 96.  98. 100.]\n [ 73.  66.  70.]]\n"
     ]
    }
   ],
   "source": [
    "print(x_data.shape)\n",
    "print(len(x_data))\n",
    "print(x_data[:5])"
   ]
  },
  {
   "cell_type": "code",
   "execution_count": 76,
   "metadata": {},
   "outputs": [
    {
     "output_type": "stream",
     "name": "stdout",
     "text": [
      "(25, 1)\n25\n[[152.]\n [185.]\n [180.]\n [196.]\n [142.]]\n"
     ]
    }
   ],
   "source": [
    "print(y_data.shape)\n",
    "print(len(y_data))\n",
    "print(y_data[:5])"
   ]
  },
  {
   "cell_type": "code",
   "execution_count": 77,
   "metadata": {},
   "outputs": [],
   "source": [
    "import torch\n",
    "import torch.nn as nn\n",
    "import torch.nn.functional as F\n",
    "import torch.optim as optim"
   ]
  },
  {
   "cell_type": "code",
   "execution_count": 78,
   "metadata": {},
   "outputs": [
    {
     "output_type": "execute_result",
     "data": {
      "text/plain": [
       "<torch._C.Generator at 0x7faea659d6d0>"
      ]
     },
     "metadata": {},
     "execution_count": 78
    }
   ],
   "source": [
    "torch.manual_seed(1)"
   ]
  },
  {
   "cell_type": "code",
   "execution_count": 79,
   "metadata": {},
   "outputs": [
    {
     "output_type": "stream",
     "name": "stdout",
     "text": [
      "Epoch    0/20 Cost: 28693.488281\nEpoch    1/20 Cost: 10618.750000\nEpoch    2/20 Cost: 3936.015137\nEpoch    3/20 Cost: 1465.219604\nEpoch    4/20 Cost: 551.693726\nEpoch    5/20 Cost: 213.934631\nEpoch    6/20 Cost: 89.052269\nEpoch    7/20 Cost: 42.876003\nEpoch    8/20 Cost: 25.799639\nEpoch    9/20 Cost: 19.482420\nEpoch   10/20 Cost: 17.143093\nEpoch   11/20 Cost: 16.274509\nEpoch   12/20 Cost: 15.949721\nEpoch   13/20 Cost: 15.825986\nEpoch   14/20 Cost: 15.776566\nEpoch   15/20 Cost: 15.754660\nEpoch   16/20 Cost: 15.742918\nEpoch   17/20 Cost: 15.734917\nEpoch   18/20 Cost: 15.728307\nEpoch   19/20 Cost: 15.722219\nEpoch   20/20 Cost: 15.716357\n"
     ]
    }
   ],
   "source": [
    "class MultivariateLinearRegressionModel(nn.Module):\n",
    "    def __init__(self):\n",
    "        super().__init__()\n",
    "        self.linear = nn.Linear(3,1)\n",
    "    def forward(self,x):\n",
    "        return self.linear(x)\n",
    "\n",
    "x_train = torch.FloatTensor(x_data)\n",
    "y_train = torch.FloatTensor(y_data)\n",
    "\n",
    "model = MultivariateLinearRegressionModel()\n",
    "optimizer = optim.SGD(model.parameters(), 1e-5)\n",
    "\n",
    "nb_epochs = 20\n",
    "for epoch in range(nb_epochs+1):\n",
    "    prediction = model(x_train)\n",
    "    cost = F.mse_loss(prediction,y_train)\n",
    "    optimizer.zero_grad()\n",
    "    cost.backward()\n",
    "    optimizer.step()\n",
    "\n",
    "    print('Epoch {:4d}/{} Cost: {:.6f}'.format(epoch, nb_epochs, cost.item()))\n"
   ]
  },
  {
   "cell_type": "code",
   "execution_count": 80,
   "metadata": {},
   "outputs": [],
   "source": [
    "from torch.utils.data import TensorDataset\n",
    "from torch.utils.data import DataLoader\n",
    "\n",
    "x_train = torch.FloatTensor([[73, 80, 75],\n",
    "                             [93, 88, 93],\n",
    "                             [89, 91, 90],\n",
    "                             [96, 98, 100],\n",
    "                             [73, 66, 70]])\n",
    "y_train = torch.FloatTensor([[152], [185], [180], [196], [142]])"
   ]
  },
  {
   "cell_type": "code",
   "execution_count": 81,
   "metadata": {},
   "outputs": [],
   "source": [
    "dataset = TensorDataset(x_train, y_train)"
   ]
  },
  {
   "cell_type": "code",
   "execution_count": 82,
   "metadata": {},
   "outputs": [],
   "source": [
    "dataloader = DataLoader(dataset, batch_size=2, shuffle=True)"
   ]
  },
  {
   "cell_type": "code",
   "execution_count": 83,
   "metadata": {},
   "outputs": [],
   "source": [
    "model = nn.Linear(3,1)\n",
    "optimizer = torch.optim.SGD(model.parameters(), lr=1e-5)"
   ]
  },
  {
   "cell_type": "code",
   "execution_count": 84,
   "metadata": {},
   "outputs": [
    {
     "output_type": "stream",
     "name": "stdout",
     "text": [
      "Epoch    0/20 Batch 1/3 Cost: 46978.785156\nEpoch    0/20 Batch 2/3 Cost: 6497.784668\nEpoch    0/20 Batch 3/3 Cost: 5174.395996\nEpoch    1/20 Batch 1/3 Cost: 711.106384\nEpoch    1/20 Batch 2/3 Cost: 401.381378\nEpoch    1/20 Batch 3/3 Cost: 212.294891\nEpoch    2/20 Batch 1/3 Cost: 26.882061\nEpoch    2/20 Batch 2/3 Cost: 0.057693\nEpoch    2/20 Batch 3/3 Cost: 41.471272\nEpoch    3/20 Batch 1/3 Cost: 13.444824\nEpoch    3/20 Batch 2/3 Cost: 14.656877\nEpoch    3/20 Batch 3/3 Cost: 5.495739\nEpoch    4/20 Batch 1/3 Cost: 6.619390\nEpoch    4/20 Batch 2/3 Cost: 19.459251\nEpoch    4/20 Batch 3/3 Cost: 16.812302\nEpoch    5/20 Batch 1/3 Cost: 19.544233\nEpoch    5/20 Batch 2/3 Cost: 21.681740\nEpoch    5/20 Batch 3/3 Cost: 13.138634\nEpoch    6/20 Batch 1/3 Cost: 2.338879\nEpoch    6/20 Batch 2/3 Cost: 21.505651\nEpoch    6/20 Batch 3/3 Cost: 17.908745\nEpoch    7/20 Batch 1/3 Cost: 8.261931\nEpoch    7/20 Batch 2/3 Cost: 12.769864\nEpoch    7/20 Batch 3/3 Cost: 24.187618\nEpoch    8/20 Batch 1/3 Cost: 10.529057\nEpoch    8/20 Batch 2/3 Cost: 14.057606\nEpoch    8/20 Batch 3/3 Cost: 18.635973\nEpoch    9/20 Batch 1/3 Cost: 0.210614\nEpoch    9/20 Batch 2/3 Cost: 22.468868\nEpoch    9/20 Batch 3/3 Cost: 20.725445\nEpoch   10/20 Batch 1/3 Cost: 20.487284\nEpoch   10/20 Batch 2/3 Cost: 7.705010\nEpoch   10/20 Batch 3/3 Cost: 7.212080\nEpoch   11/20 Batch 1/3 Cost: 20.363546\nEpoch   11/20 Batch 2/3 Cost: 8.519358\nEpoch   11/20 Batch 3/3 Cost: 4.553837\nEpoch   12/20 Batch 1/3 Cost: 6.104053\nEpoch   12/20 Batch 2/3 Cost: 13.997333\nEpoch   12/20 Batch 3/3 Cost: 27.482769\nEpoch   13/20 Batch 1/3 Cost: 7.776031\nEpoch   13/20 Batch 2/3 Cost: 13.109329\nEpoch   13/20 Batch 3/3 Cost: 23.921347\nEpoch   14/20 Batch 1/3 Cost: 5.524722\nEpoch   14/20 Batch 2/3 Cost: 19.877092\nEpoch   14/20 Batch 3/3 Cost: 17.504499\nEpoch   15/20 Batch 1/3 Cost: 11.427785\nEpoch   15/20 Batch 2/3 Cost: 14.224229\nEpoch   15/20 Batch 3/3 Cost: 24.827265\nEpoch   16/20 Batch 1/3 Cost: 22.178373\nEpoch   16/20 Batch 2/3 Cost: 14.530046\nEpoch   16/20 Batch 3/3 Cost: 10.774013\nEpoch   17/20 Batch 1/3 Cost: 21.197256\nEpoch   17/20 Batch 2/3 Cost: 11.078669\nEpoch   17/20 Batch 3/3 Cost: 14.773710\nEpoch   18/20 Batch 1/3 Cost: 8.447614\nEpoch   18/20 Batch 2/3 Cost: 20.012671\nEpoch   18/20 Batch 3/3 Cost: 7.387951\nEpoch   19/20 Batch 1/3 Cost: 14.731869\nEpoch   19/20 Batch 2/3 Cost: 7.791129\nEpoch   19/20 Batch 3/3 Cost: 18.635447\nEpoch   20/20 Batch 1/3 Cost: 17.549294\nEpoch   20/20 Batch 2/3 Cost: 7.824908\nEpoch   20/20 Batch 3/3 Cost: 24.960953\n"
     ]
    }
   ],
   "source": [
    "nb_epochs = 20\n",
    "for epoch in range(nb_epochs+1):\n",
    "    for batch_idx, samples in enumerate(dataloader):\n",
    "        # print(batch_idx)\n",
    "        # print(samples)\n",
    "        x_train, y_train = samples\n",
    "\n",
    "        prediction = model(x_train)\n",
    "\n",
    "        cost = F.mse_loss(prediction,y_train)\n",
    "\n",
    "        optimizer.zero_grad()\n",
    "        cost.backward()\n",
    "        optimizer.step()\n",
    "\n",
    "        print('Epoch {:4d}/{} Batch {}/{} Cost: {:6f}'.format(epoch,nb_epochs,batch_idx+1,len(dataloader),cost.item()))"
   ]
  },
  {
   "cell_type": "code",
   "execution_count": 85,
   "metadata": {},
   "outputs": [
    {
     "output_type": "stream",
     "name": "stdout",
     "text": [
      "훈련 후 입력이 73, 80, 75일 때의 예측값 : tensor([[156.7833]], grad_fn=<AddmmBackward>)\n"
     ]
    }
   ],
   "source": [
    "new_var = torch.FloatTensor([[73, 80, 75]])\n",
    "pred_y = model(new_var)\n",
    "print(\"훈련 후 입력이 73, 80, 75일 때의 예측값 :\", pred_y)"
   ]
  },
  {
   "cell_type": "code",
   "execution_count": 86,
   "metadata": {},
   "outputs": [],
   "source": [
    "import torch\n",
    "import torch.nn.functional as F\n",
    "\n",
    "from torch.utils.data import Dataset\n",
    "from torch.utils.data import DataLoader"
   ]
  },
  {
   "cell_type": "code",
   "execution_count": 88,
   "metadata": {},
   "outputs": [],
   "source": [
    "class CustomDataset(Dataset):\n",
    "    def __init__(self):\n",
    "        self.x_data = [[73, 80, 75],\n",
    "                       [93, 88, 93],\n",
    "                       [89, 91, 90],\n",
    "                       [96, 98, 100],\n",
    "                       [73, 66, 70]]\n",
    "        self.y_data = [[152], [185], [180], [196], [142]]\n",
    "    \n",
    "    def __len__(self):\n",
    "        return len(self.x_data)\n",
    "\n",
    "    def __getitem__(self, idx):\n",
    "        x = torch.FloatTensor(self.x_data)\n",
    "        y = torch.FloatTensor(self.y_data)\n",
    "        return x,y"
   ]
  },
  {
   "cell_type": "code",
   "execution_count": 89,
   "metadata": {},
   "outputs": [],
   "source": [
    "dataset = CustomDataset()\n",
    "dataloader = DataLoader(dataset, batch_size=2, shuffle=True)"
   ]
  },
  {
   "cell_type": "code",
   "execution_count": 90,
   "metadata": {},
   "outputs": [],
   "source": [
    "model = torch.nn.Linear(3,1)\n",
    "optimizer = optim.SGD(model.parameters(), lr = 1e-5)"
   ]
  },
  {
   "cell_type": "code",
   "execution_count": 91,
   "metadata": {},
   "outputs": [
    {
     "output_type": "stream",
     "name": "stdout",
     "text": [
      "Epoch    0/20 Batch 1/3 Cost: 5605.632812\nEpoch    0/20 Batch 2/3 Cost: 1758.405762\nEpoch    0/20 Batch 3/3 Cost: 552.504150\nEpoch    1/20 Batch 1/3 Cost: 174.517258\nEpoch    1/20 Batch 2/3 Cost: 56.037830\nEpoch    1/20 Batch 3/3 Cost: 18.900248\nEpoch    2/20 Batch 1/3 Cost: 7.258955\nEpoch    2/20 Batch 2/3 Cost: 3.609433\nEpoch    2/20 Batch 3/3 Cost: 2.464880\nEpoch    3/20 Batch 1/3 Cost: 2.105499\nEpoch    3/20 Batch 2/3 Cost: 1.992240\nEpoch    3/20 Batch 3/3 Cost: 1.956139\nEpoch    4/20 Batch 1/3 Cost: 1.944193\nEpoch    4/20 Batch 2/3 Cost: 1.939844\nEpoch    4/20 Batch 3/3 Cost: 1.937863\nEpoch    5/20 Batch 1/3 Cost: 1.936631\nEpoch    5/20 Batch 2/3 Cost: 1.935619\nEpoch    5/20 Batch 3/3 Cost: 1.934691\nEpoch    6/20 Batch 1/3 Cost: 1.933805\nEpoch    6/20 Batch 2/3 Cost: 1.932908\nEpoch    6/20 Batch 3/3 Cost: 1.932013\nEpoch    7/20 Batch 1/3 Cost: 1.931119\nEpoch    7/20 Batch 2/3 Cost: 1.930222\nEpoch    7/20 Batch 3/3 Cost: 1.929332\nEpoch    8/20 Batch 1/3 Cost: 1.928447\nEpoch    8/20 Batch 2/3 Cost: 1.927553\nEpoch    8/20 Batch 3/3 Cost: 1.926661\nEpoch    9/20 Batch 1/3 Cost: 1.925781\nEpoch    9/20 Batch 2/3 Cost: 1.924899\nEpoch    9/20 Batch 3/3 Cost: 1.924010\nEpoch   10/20 Batch 1/3 Cost: 1.923134\nEpoch   10/20 Batch 2/3 Cost: 1.922239\nEpoch   10/20 Batch 3/3 Cost: 1.921349\nEpoch   11/20 Batch 1/3 Cost: 1.920466\nEpoch   11/20 Batch 2/3 Cost: 1.919592\nEpoch   11/20 Batch 3/3 Cost: 1.918695\nEpoch   12/20 Batch 1/3 Cost: 1.917810\nEpoch   12/20 Batch 2/3 Cost: 1.916936\nEpoch   12/20 Batch 3/3 Cost: 1.916049\nEpoch   13/20 Batch 1/3 Cost: 1.915162\nEpoch   13/20 Batch 2/3 Cost: 1.914285\nEpoch   13/20 Batch 3/3 Cost: 1.913405\nEpoch   14/20 Batch 1/3 Cost: 1.912514\nEpoch   14/20 Batch 2/3 Cost: 1.911650\nEpoch   14/20 Batch 3/3 Cost: 1.910765\nEpoch   15/20 Batch 1/3 Cost: 1.909886\nEpoch   15/20 Batch 2/3 Cost: 1.908994\nEpoch   15/20 Batch 3/3 Cost: 1.908110\nEpoch   16/20 Batch 1/3 Cost: 1.907253\nEpoch   16/20 Batch 2/3 Cost: 1.906372\nEpoch   16/20 Batch 3/3 Cost: 1.905507\nEpoch   17/20 Batch 1/3 Cost: 1.904617\nEpoch   17/20 Batch 2/3 Cost: 1.903753\nEpoch   17/20 Batch 3/3 Cost: 1.902885\nEpoch   18/20 Batch 1/3 Cost: 1.902002\nEpoch   18/20 Batch 2/3 Cost: 1.901112\nEpoch   18/20 Batch 3/3 Cost: 1.900249\nEpoch   19/20 Batch 1/3 Cost: 1.899369\nEpoch   19/20 Batch 2/3 Cost: 1.898506\nEpoch   19/20 Batch 3/3 Cost: 1.897624\nEpoch   20/20 Batch 1/3 Cost: 1.896764\nEpoch   20/20 Batch 2/3 Cost: 1.895895\nEpoch   20/20 Batch 3/3 Cost: 1.895012\n"
     ]
    }
   ],
   "source": [
    "nb_epochs = 20\n",
    "for epoch in range(nb_epochs+1):\n",
    "    for batch_idx, samples in enumerate(dataloader):\n",
    "        x_train, y_train = samples\n",
    "\n",
    "        prediction = model(x_train)\n",
    "\n",
    "        cost = F.mse_loss(prediction,y_train)\n",
    "\n",
    "        optimizer.zero_grad()\n",
    "        cost.backward()\n",
    "        optimizer.step()\n",
    "\n",
    "        print('Epoch {:4d}/{} Batch {}/{} Cost: {:.6f}'.format(\n",
    "        epoch, nb_epochs, batch_idx+1, len(dataloader),\n",
    "        cost.item()\n",
    "        ))"
   ]
  },
  {
   "cell_type": "code",
   "execution_count": 92,
   "metadata": {},
   "outputs": [
    {
     "output_type": "stream",
     "name": "stdout",
     "text": [
      "훈련 후 입력이 73, 80, 75일 때의 예측값 : tensor([[153.0180]], grad_fn=<AddmmBackward>)\n"
     ]
    }
   ],
   "source": [
    "# 임의의 입력 [73, 80, 75]를 선언\n",
    "new_var =  torch.FloatTensor([[73, 80, 75]]) \n",
    "# 입력한 값 [73, 80, 75]에 대해서 예측값 y를 리턴받아서 pred_y에 저장\n",
    "pred_y = model(new_var) \n",
    "print(\"훈련 후 입력이 73, 80, 75일 때의 예측값 :\", pred_y) "
   ]
  }
 ]
}